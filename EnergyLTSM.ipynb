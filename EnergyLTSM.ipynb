{
 "cells": [
  {
   "cell_type": "markdown",
   "id": "003f2713-4e08-4d4b-8f59-c0dca20c7d33",
   "metadata": {},
   "source": [
    "# Using an LTSM RRN to predict England and Wales Energy Demand #"
   ]
  },
  {
   "cell_type": "code",
   "execution_count": 78,
   "id": "9417c3bb-f5ea-4226-bbd3-bf188dd62346",
   "metadata": {},
   "outputs": [],
   "source": [
    "import pandas as pd\n",
    "import os as os"
   ]
  },
  {
   "cell_type": "markdown",
   "id": "f09fbe41-c13b-488a-b8d5-77c12645d5fd",
   "metadata": {},
   "source": [
    "Demand data taken from https://demandforecast.nationalgrid.com/efs_demand_forecast/faces/DataExplorer"
   ]
  },
  {
   "cell_type": "code",
   "execution_count": 80,
   "id": "d35be367-fd13-4338-ad95-77a325a61e34",
   "metadata": {},
   "outputs": [],
   "source": [
    "fnames = ['demanddata_' + str(number) for number in range(2019,2024)]\n",
    "df_dem = pd.read_csv(\"./Historics/\" + fnames[0] + \".csv\")\n",
    "df_dem = df_dem[0:0]\n",
    "for nm in fnames:\n",
    "  tmp = pd.read_csv(\"./Historics/\" + nm + \".csv\")\n",
    "  df_dem = pd.concat( [df_dem, tmp],axis = 0)"
   ]
  },
  {
   "cell_type": "code",
   "execution_count": 81,
   "id": "1a7c0bed-1b92-4e25-87de-0cbf7d1b1af5",
   "metadata": {},
   "outputs": [
    {
     "data": {
      "text/html": [
       "<div>\n",
       "<style scoped>\n",
       "    .dataframe tbody tr th:only-of-type {\n",
       "        vertical-align: middle;\n",
       "    }\n",
       "\n",
       "    .dataframe tbody tr th {\n",
       "        vertical-align: top;\n",
       "    }\n",
       "\n",
       "    .dataframe thead th {\n",
       "        text-align: right;\n",
       "    }\n",
       "</style>\n",
       "<table border=\"1\" class=\"dataframe\">\n",
       "  <thead>\n",
       "    <tr style=\"text-align: right;\">\n",
       "      <th></th>\n",
       "      <th>SETTLEMENT_DATE</th>\n",
       "      <th>SETTLEMENT_PERIOD</th>\n",
       "      <th>ND</th>\n",
       "      <th>TSD</th>\n",
       "      <th>ENGLAND_WALES_DEMAND</th>\n",
       "      <th>EMBEDDED_WIND_GENERATION</th>\n",
       "      <th>EMBEDDED_WIND_CAPACITY</th>\n",
       "      <th>EMBEDDED_SOLAR_GENERATION</th>\n",
       "      <th>EMBEDDED_SOLAR_CAPACITY</th>\n",
       "      <th>NON_BM_STOR</th>\n",
       "      <th>...</th>\n",
       "      <th>IFA_FLOW</th>\n",
       "      <th>IFA2_FLOW</th>\n",
       "      <th>BRITNED_FLOW</th>\n",
       "      <th>MOYLE_FLOW</th>\n",
       "      <th>EAST_WEST_FLOW</th>\n",
       "      <th>NEMO_FLOW</th>\n",
       "      <th>NSL_FLOW</th>\n",
       "      <th>ELECLINK_FLOW</th>\n",
       "      <th>SCOTTISH_TRANSFER</th>\n",
       "      <th>VIKING_FLOW</th>\n",
       "    </tr>\n",
       "  </thead>\n",
       "  <tbody>\n",
       "    <tr>\n",
       "      <th>0</th>\n",
       "      <td>01-JAN-2019</td>\n",
       "      <td>1</td>\n",
       "      <td>23808</td>\n",
       "      <td>25291</td>\n",
       "      <td>22393</td>\n",
       "      <td>2548</td>\n",
       "      <td>5918</td>\n",
       "      <td>0</td>\n",
       "      <td>13052</td>\n",
       "      <td>0</td>\n",
       "      <td>...</td>\n",
       "      <td>1553</td>\n",
       "      <td>0</td>\n",
       "      <td>176</td>\n",
       "      <td>-455</td>\n",
       "      <td>-250</td>\n",
       "      <td>0</td>\n",
       "      <td>0</td>\n",
       "      <td>0</td>\n",
       "      <td>NaN</td>\n",
       "      <td>NaN</td>\n",
       "    </tr>\n",
       "    <tr>\n",
       "      <th>1</th>\n",
       "      <td>01-JAN-2019</td>\n",
       "      <td>2</td>\n",
       "      <td>24402</td>\n",
       "      <td>25720</td>\n",
       "      <td>22962</td>\n",
       "      <td>2475</td>\n",
       "      <td>5918</td>\n",
       "      <td>0</td>\n",
       "      <td>13052</td>\n",
       "      <td>0</td>\n",
       "      <td>...</td>\n",
       "      <td>1554</td>\n",
       "      <td>0</td>\n",
       "      <td>194</td>\n",
       "      <td>-455</td>\n",
       "      <td>-236</td>\n",
       "      <td>0</td>\n",
       "      <td>0</td>\n",
       "      <td>0</td>\n",
       "      <td>NaN</td>\n",
       "      <td>NaN</td>\n",
       "    </tr>\n",
       "    <tr>\n",
       "      <th>2</th>\n",
       "      <td>01-JAN-2019</td>\n",
       "      <td>3</td>\n",
       "      <td>24147</td>\n",
       "      <td>25495</td>\n",
       "      <td>22689</td>\n",
       "      <td>2396</td>\n",
       "      <td>5918</td>\n",
       "      <td>0</td>\n",
       "      <td>13052</td>\n",
       "      <td>0</td>\n",
       "      <td>...</td>\n",
       "      <td>1505</td>\n",
       "      <td>0</td>\n",
       "      <td>581</td>\n",
       "      <td>-410</td>\n",
       "      <td>-311</td>\n",
       "      <td>0</td>\n",
       "      <td>0</td>\n",
       "      <td>0</td>\n",
       "      <td>NaN</td>\n",
       "      <td>NaN</td>\n",
       "    </tr>\n",
       "    <tr>\n",
       "      <th>3</th>\n",
       "      <td>01-JAN-2019</td>\n",
       "      <td>4</td>\n",
       "      <td>23197</td>\n",
       "      <td>24590</td>\n",
       "      <td>21849</td>\n",
       "      <td>2317</td>\n",
       "      <td>5918</td>\n",
       "      <td>0</td>\n",
       "      <td>13052</td>\n",
       "      <td>0</td>\n",
       "      <td>...</td>\n",
       "      <td>1503</td>\n",
       "      <td>0</td>\n",
       "      <td>600</td>\n",
       "      <td>-450</td>\n",
       "      <td>-315</td>\n",
       "      <td>0</td>\n",
       "      <td>0</td>\n",
       "      <td>0</td>\n",
       "      <td>NaN</td>\n",
       "      <td>NaN</td>\n",
       "    </tr>\n",
       "    <tr>\n",
       "      <th>4</th>\n",
       "      <td>01-JAN-2019</td>\n",
       "      <td>5</td>\n",
       "      <td>22316</td>\n",
       "      <td>24346</td>\n",
       "      <td>20979</td>\n",
       "      <td>2236</td>\n",
       "      <td>5918</td>\n",
       "      <td>0</td>\n",
       "      <td>13052</td>\n",
       "      <td>0</td>\n",
       "      <td>...</td>\n",
       "      <td>1503</td>\n",
       "      <td>0</td>\n",
       "      <td>675</td>\n",
       "      <td>-442</td>\n",
       "      <td>-463</td>\n",
       "      <td>0</td>\n",
       "      <td>0</td>\n",
       "      <td>0</td>\n",
       "      <td>NaN</td>\n",
       "      <td>NaN</td>\n",
       "    </tr>\n",
       "  </tbody>\n",
       "</table>\n",
       "<p>5 rows × 21 columns</p>\n",
       "</div>"
      ],
      "text/plain": [
       "  SETTLEMENT_DATE  SETTLEMENT_PERIOD     ND    TSD  ENGLAND_WALES_DEMAND  \\\n",
       "0     01-JAN-2019                  1  23808  25291                 22393   \n",
       "1     01-JAN-2019                  2  24402  25720                 22962   \n",
       "2     01-JAN-2019                  3  24147  25495                 22689   \n",
       "3     01-JAN-2019                  4  23197  24590                 21849   \n",
       "4     01-JAN-2019                  5  22316  24346                 20979   \n",
       "\n",
       "   EMBEDDED_WIND_GENERATION  EMBEDDED_WIND_CAPACITY  \\\n",
       "0                      2548                    5918   \n",
       "1                      2475                    5918   \n",
       "2                      2396                    5918   \n",
       "3                      2317                    5918   \n",
       "4                      2236                    5918   \n",
       "\n",
       "   EMBEDDED_SOLAR_GENERATION  EMBEDDED_SOLAR_CAPACITY  NON_BM_STOR  ...  \\\n",
       "0                          0                    13052            0  ...   \n",
       "1                          0                    13052            0  ...   \n",
       "2                          0                    13052            0  ...   \n",
       "3                          0                    13052            0  ...   \n",
       "4                          0                    13052            0  ...   \n",
       "\n",
       "   IFA_FLOW  IFA2_FLOW  BRITNED_FLOW  MOYLE_FLOW  EAST_WEST_FLOW  NEMO_FLOW  \\\n",
       "0      1553          0           176        -455            -250          0   \n",
       "1      1554          0           194        -455            -236          0   \n",
       "2      1505          0           581        -410            -311          0   \n",
       "3      1503          0           600        -450            -315          0   \n",
       "4      1503          0           675        -442            -463          0   \n",
       "\n",
       "   NSL_FLOW  ELECLINK_FLOW  SCOTTISH_TRANSFER  VIKING_FLOW  \n",
       "0         0              0                NaN          NaN  \n",
       "1         0              0                NaN          NaN  \n",
       "2         0              0                NaN          NaN  \n",
       "3         0              0                NaN          NaN  \n",
       "4         0              0                NaN          NaN  \n",
       "\n",
       "[5 rows x 21 columns]"
      ]
     },
     "execution_count": 81,
     "metadata": {},
     "output_type": "execute_result"
    }
   ],
   "source": [
    "df_dem.head(5)"
   ]
  },
  {
   "cell_type": "code",
   "execution_count": 82,
   "id": "80bfddce-b6af-4ebf-9cba-c18a6698a210",
   "metadata": {},
   "outputs": [
    {
     "name": "stdout",
     "output_type": "stream",
     "text": [
      "<class 'pandas.core.frame.DataFrame'>\n",
      "Index: 87648 entries, 0 to 17519\n",
      "Data columns (total 21 columns):\n",
      " #   Column                     Non-Null Count  Dtype  \n",
      "---  ------                     --------------  -----  \n",
      " 0   SETTLEMENT_DATE            87648 non-null  object \n",
      " 1   SETTLEMENT_PERIOD          87648 non-null  int64  \n",
      " 2   ND                         87648 non-null  int64  \n",
      " 3   TSD                        87648 non-null  int64  \n",
      " 4   ENGLAND_WALES_DEMAND       87648 non-null  int64  \n",
      " 5   EMBEDDED_WIND_GENERATION   87648 non-null  int64  \n",
      " 6   EMBEDDED_WIND_CAPACITY     87648 non-null  int64  \n",
      " 7   EMBEDDED_SOLAR_GENERATION  87648 non-null  int64  \n",
      " 8   EMBEDDED_SOLAR_CAPACITY    87648 non-null  int64  \n",
      " 9   NON_BM_STOR                87648 non-null  int64  \n",
      " 10  PUMP_STORAGE_PUMPING       87648 non-null  int64  \n",
      " 11  IFA_FLOW                   87648 non-null  int64  \n",
      " 12  IFA2_FLOW                  87648 non-null  int64  \n",
      " 13  BRITNED_FLOW               87648 non-null  int64  \n",
      " 14  MOYLE_FLOW                 87648 non-null  int64  \n",
      " 15  EAST_WEST_FLOW             87648 non-null  int64  \n",
      " 16  NEMO_FLOW                  87648 non-null  int64  \n",
      " 17  NSL_FLOW                   87648 non-null  int64  \n",
      " 18  ELECLINK_FLOW              87648 non-null  int64  \n",
      " 19  SCOTTISH_TRANSFER          17520 non-null  float64\n",
      " 20  VIKING_FLOW                17520 non-null  float64\n",
      "dtypes: float64(2), int64(18), object(1)\n",
      "memory usage: 14.7+ MB\n"
     ]
    }
   ],
   "source": [
    "df_dem.info()"
   ]
  },
  {
   "cell_type": "code",
   "execution_count": 83,
   "id": "f92a7e40-5415-4df8-acf6-b1141568e69f",
   "metadata": {},
   "outputs": [
    {
     "data": {
      "text/html": [
       "<div>\n",
       "<style scoped>\n",
       "    .dataframe tbody tr th:only-of-type {\n",
       "        vertical-align: middle;\n",
       "    }\n",
       "\n",
       "    .dataframe tbody tr th {\n",
       "        vertical-align: top;\n",
       "    }\n",
       "\n",
       "    .dataframe thead th {\n",
       "        text-align: right;\n",
       "    }\n",
       "</style>\n",
       "<table border=\"1\" class=\"dataframe\">\n",
       "  <thead>\n",
       "    <tr style=\"text-align: right;\">\n",
       "      <th></th>\n",
       "      <th>SETTLEMENT_PERIOD</th>\n",
       "      <th>ND</th>\n",
       "      <th>TSD</th>\n",
       "      <th>ENGLAND_WALES_DEMAND</th>\n",
       "      <th>EMBEDDED_WIND_GENERATION</th>\n",
       "      <th>EMBEDDED_WIND_CAPACITY</th>\n",
       "      <th>EMBEDDED_SOLAR_GENERATION</th>\n",
       "      <th>EMBEDDED_SOLAR_CAPACITY</th>\n",
       "      <th>NON_BM_STOR</th>\n",
       "      <th>PUMP_STORAGE_PUMPING</th>\n",
       "      <th>IFA_FLOW</th>\n",
       "      <th>IFA2_FLOW</th>\n",
       "      <th>BRITNED_FLOW</th>\n",
       "      <th>MOYLE_FLOW</th>\n",
       "      <th>EAST_WEST_FLOW</th>\n",
       "      <th>NEMO_FLOW</th>\n",
       "      <th>NSL_FLOW</th>\n",
       "      <th>ELECLINK_FLOW</th>\n",
       "      <th>SCOTTISH_TRANSFER</th>\n",
       "      <th>VIKING_FLOW</th>\n",
       "    </tr>\n",
       "  </thead>\n",
       "  <tbody>\n",
       "    <tr>\n",
       "      <th>count</th>\n",
       "      <td>87648.000000</td>\n",
       "      <td>87648.000000</td>\n",
       "      <td>87648.000000</td>\n",
       "      <td>87648.000000</td>\n",
       "      <td>87648.000000</td>\n",
       "      <td>87648.000000</td>\n",
       "      <td>87648.000000</td>\n",
       "      <td>87648.000000</td>\n",
       "      <td>87648.000000</td>\n",
       "      <td>87648.00000</td>\n",
       "      <td>87648.000000</td>\n",
       "      <td>87648.000000</td>\n",
       "      <td>87648.000000</td>\n",
       "      <td>87648.000000</td>\n",
       "      <td>87648.000000</td>\n",
       "      <td>87648.000000</td>\n",
       "      <td>87648.000000</td>\n",
       "      <td>87648.000000</td>\n",
       "      <td>17520.000000</td>\n",
       "      <td>17520.000000</td>\n",
       "    </tr>\n",
       "    <tr>\n",
       "      <th>mean</th>\n",
       "      <td>24.500228</td>\n",
       "      <td>27506.458790</td>\n",
       "      <td>29233.054468</td>\n",
       "      <td>25152.581348</td>\n",
       "      <td>1733.816299</td>\n",
       "      <td>6458.578564</td>\n",
       "      <td>1364.862986</td>\n",
       "      <td>13725.825552</td>\n",
       "      <td>1.190387</td>\n",
       "      <td>200.67301</td>\n",
       "      <td>733.046287</td>\n",
       "      <td>81.811587</td>\n",
       "      <td>415.736069</td>\n",
       "      <td>-88.953678</td>\n",
       "      <td>-10.866705</td>\n",
       "      <td>469.824936</td>\n",
       "      <td>290.444425</td>\n",
       "      <td>17.037890</td>\n",
       "      <td>1581.080936</td>\n",
       "      <td>5.664783</td>\n",
       "    </tr>\n",
       "    <tr>\n",
       "      <th>std</th>\n",
       "      <td>13.853873</td>\n",
       "      <td>6404.216122</td>\n",
       "      <td>6082.344964</td>\n",
       "      <td>5859.313451</td>\n",
       "      <td>1058.153280</td>\n",
       "      <td>151.016607</td>\n",
       "      <td>2105.775492</td>\n",
       "      <td>978.873697</td>\n",
       "      <td>17.105040</td>\n",
       "      <td>385.83157</td>\n",
       "      <td>1073.665522</td>\n",
       "      <td>562.374565</td>\n",
       "      <td>605.527538</td>\n",
       "      <td>279.073241</td>\n",
       "      <td>305.014680</td>\n",
       "      <td>579.514599</td>\n",
       "      <td>581.530681</td>\n",
       "      <td>429.661369</td>\n",
       "      <td>1826.648558</td>\n",
       "      <td>91.436006</td>\n",
       "    </tr>\n",
       "    <tr>\n",
       "      <th>min</th>\n",
       "      <td>1.000000</td>\n",
       "      <td>13367.000000</td>\n",
       "      <td>16513.000000</td>\n",
       "      <td>0.000000</td>\n",
       "      <td>147.000000</td>\n",
       "      <td>5918.000000</td>\n",
       "      <td>0.000000</td>\n",
       "      <td>13052.000000</td>\n",
       "      <td>0.000000</td>\n",
       "      <td>0.00000</td>\n",
       "      <td>-2056.000000</td>\n",
       "      <td>-1030.000000</td>\n",
       "      <td>-1076.000000</td>\n",
       "      <td>-505.000000</td>\n",
       "      <td>-585.000000</td>\n",
       "      <td>-1022.000000</td>\n",
       "      <td>-1455.000000</td>\n",
       "      <td>-1028.000000</td>\n",
       "      <td>-2851.000000</td>\n",
       "      <td>-1465.000000</td>\n",
       "    </tr>\n",
       "    <tr>\n",
       "      <th>25%</th>\n",
       "      <td>12.750000</td>\n",
       "      <td>22552.000000</td>\n",
       "      <td>24615.750000</td>\n",
       "      <td>20611.000000</td>\n",
       "      <td>882.000000</td>\n",
       "      <td>6488.000000</td>\n",
       "      <td>0.000000</td>\n",
       "      <td>13080.000000</td>\n",
       "      <td>0.000000</td>\n",
       "      <td>7.00000</td>\n",
       "      <td>-61.000000</td>\n",
       "      <td>-2.000000</td>\n",
       "      <td>0.000000</td>\n",
       "      <td>-381.000000</td>\n",
       "      <td>-181.000000</td>\n",
       "      <td>34.000000</td>\n",
       "      <td>0.000000</td>\n",
       "      <td>0.000000</td>\n",
       "      <td>142.000000</td>\n",
       "      <td>0.000000</td>\n",
       "    </tr>\n",
       "    <tr>\n",
       "      <th>50%</th>\n",
       "      <td>24.500000</td>\n",
       "      <td>26732.000000</td>\n",
       "      <td>28449.000000</td>\n",
       "      <td>24394.500000</td>\n",
       "      <td>1496.500000</td>\n",
       "      <td>6527.000000</td>\n",
       "      <td>9.000000</td>\n",
       "      <td>13080.000000</td>\n",
       "      <td>0.000000</td>\n",
       "      <td>11.00000</td>\n",
       "      <td>992.000000</td>\n",
       "      <td>0.000000</td>\n",
       "      <td>627.000000</td>\n",
       "      <td>-60.000000</td>\n",
       "      <td>0.000000</td>\n",
       "      <td>700.000000</td>\n",
       "      <td>0.000000</td>\n",
       "      <td>0.000000</td>\n",
       "      <td>1418.000000</td>\n",
       "      <td>0.000000</td>\n",
       "    </tr>\n",
       "    <tr>\n",
       "      <th>75%</th>\n",
       "      <td>36.250000</td>\n",
       "      <td>31630.000000</td>\n",
       "      <td>33014.250000</td>\n",
       "      <td>28922.000000</td>\n",
       "      <td>2380.000000</td>\n",
       "      <td>6545.000000</td>\n",
       "      <td>2230.000000</td>\n",
       "      <td>13861.000000</td>\n",
       "      <td>0.000000</td>\n",
       "      <td>123.00000</td>\n",
       "      <td>1706.000000</td>\n",
       "      <td>461.250000</td>\n",
       "      <td>968.000000</td>\n",
       "      <td>129.000000</td>\n",
       "      <td>148.000000</td>\n",
       "      <td>951.000000</td>\n",
       "      <td>693.000000</td>\n",
       "      <td>0.000000</td>\n",
       "      <td>2903.000000</td>\n",
       "      <td>0.000000</td>\n",
       "    </tr>\n",
       "    <tr>\n",
       "      <th>max</th>\n",
       "      <td>50.000000</td>\n",
       "      <td>47081.000000</td>\n",
       "      <td>48800.000000</td>\n",
       "      <td>42555.000000</td>\n",
       "      <td>5539.000000</td>\n",
       "      <td>6574.000000</td>\n",
       "      <td>9830.000000</td>\n",
       "      <td>15954.000000</td>\n",
       "      <td>585.000000</td>\n",
       "      <td>1939.00000</td>\n",
       "      <td>2065.000000</td>\n",
       "      <td>1016.000000</td>\n",
       "      <td>1088.000000</td>\n",
       "      <td>499.000000</td>\n",
       "      <td>504.000000</td>\n",
       "      <td>1033.000000</td>\n",
       "      <td>1401.000000</td>\n",
       "      <td>1002.000000</td>\n",
       "      <td>6238.000000</td>\n",
       "      <td>1408.000000</td>\n",
       "    </tr>\n",
       "  </tbody>\n",
       "</table>\n",
       "</div>"
      ],
      "text/plain": [
       "       SETTLEMENT_PERIOD            ND           TSD  ENGLAND_WALES_DEMAND  \\\n",
       "count       87648.000000  87648.000000  87648.000000          87648.000000   \n",
       "mean           24.500228  27506.458790  29233.054468          25152.581348   \n",
       "std            13.853873   6404.216122   6082.344964           5859.313451   \n",
       "min             1.000000  13367.000000  16513.000000              0.000000   \n",
       "25%            12.750000  22552.000000  24615.750000          20611.000000   \n",
       "50%            24.500000  26732.000000  28449.000000          24394.500000   \n",
       "75%            36.250000  31630.000000  33014.250000          28922.000000   \n",
       "max            50.000000  47081.000000  48800.000000          42555.000000   \n",
       "\n",
       "       EMBEDDED_WIND_GENERATION  EMBEDDED_WIND_CAPACITY  \\\n",
       "count              87648.000000            87648.000000   \n",
       "mean                1733.816299             6458.578564   \n",
       "std                 1058.153280              151.016607   \n",
       "min                  147.000000             5918.000000   \n",
       "25%                  882.000000             6488.000000   \n",
       "50%                 1496.500000             6527.000000   \n",
       "75%                 2380.000000             6545.000000   \n",
       "max                 5539.000000             6574.000000   \n",
       "\n",
       "       EMBEDDED_SOLAR_GENERATION  EMBEDDED_SOLAR_CAPACITY   NON_BM_STOR  \\\n",
       "count               87648.000000             87648.000000  87648.000000   \n",
       "mean                 1364.862986             13725.825552      1.190387   \n",
       "std                  2105.775492               978.873697     17.105040   \n",
       "min                     0.000000             13052.000000      0.000000   \n",
       "25%                     0.000000             13080.000000      0.000000   \n",
       "50%                     9.000000             13080.000000      0.000000   \n",
       "75%                  2230.000000             13861.000000      0.000000   \n",
       "max                  9830.000000             15954.000000    585.000000   \n",
       "\n",
       "       PUMP_STORAGE_PUMPING      IFA_FLOW     IFA2_FLOW  BRITNED_FLOW  \\\n",
       "count           87648.00000  87648.000000  87648.000000  87648.000000   \n",
       "mean              200.67301    733.046287     81.811587    415.736069   \n",
       "std               385.83157   1073.665522    562.374565    605.527538   \n",
       "min                 0.00000  -2056.000000  -1030.000000  -1076.000000   \n",
       "25%                 7.00000    -61.000000     -2.000000      0.000000   \n",
       "50%                11.00000    992.000000      0.000000    627.000000   \n",
       "75%               123.00000   1706.000000    461.250000    968.000000   \n",
       "max              1939.00000   2065.000000   1016.000000   1088.000000   \n",
       "\n",
       "         MOYLE_FLOW  EAST_WEST_FLOW     NEMO_FLOW      NSL_FLOW  \\\n",
       "count  87648.000000    87648.000000  87648.000000  87648.000000   \n",
       "mean     -88.953678      -10.866705    469.824936    290.444425   \n",
       "std      279.073241      305.014680    579.514599    581.530681   \n",
       "min     -505.000000     -585.000000  -1022.000000  -1455.000000   \n",
       "25%     -381.000000     -181.000000     34.000000      0.000000   \n",
       "50%      -60.000000        0.000000    700.000000      0.000000   \n",
       "75%      129.000000      148.000000    951.000000    693.000000   \n",
       "max      499.000000      504.000000   1033.000000   1401.000000   \n",
       "\n",
       "       ELECLINK_FLOW  SCOTTISH_TRANSFER   VIKING_FLOW  \n",
       "count   87648.000000       17520.000000  17520.000000  \n",
       "mean       17.037890        1581.080936      5.664783  \n",
       "std       429.661369        1826.648558     91.436006  \n",
       "min     -1028.000000       -2851.000000  -1465.000000  \n",
       "25%         0.000000         142.000000      0.000000  \n",
       "50%         0.000000        1418.000000      0.000000  \n",
       "75%         0.000000        2903.000000      0.000000  \n",
       "max      1002.000000        6238.000000   1408.000000  "
      ]
     },
     "execution_count": 83,
     "metadata": {},
     "output_type": "execute_result"
    }
   ],
   "source": [
    "df_dem.describe()"
   ]
  },
  {
   "cell_type": "code",
   "execution_count": 84,
   "id": "bb759d15-d6b5-4910-b6db-21d1298e0b48",
   "metadata": {},
   "outputs": [],
   "source": [
    "import matplotlib.pyplot as plt"
   ]
  },
  {
   "cell_type": "code",
   "execution_count": 85,
   "id": "c0425c17-ae1a-4d3b-959e-ca7bb8dc29e0",
   "metadata": {},
   "outputs": [
    {
     "data": {
      "text/plain": [
       "[<matplotlib.lines.Line2D at 0x12ee423d0>]"
      ]
     },
     "execution_count": 85,
     "metadata": {},
     "output_type": "execute_result"
    },
    {
     "data": {
      "image/png": "[encoded data removed]",
      "text/plain": [
       "<Figure size 640x480 with 1 Axes>"
      ]
     },
     "metadata": {},
     "output_type": "display_data"
    }
   ],
   "source": [
    "plt.plot(df_dem['ENGLAND_WALES_DEMAND'][0:10000])"
   ]
  },
  {
   "cell_type": "markdown",
   "id": "27e0352d-008c-4a56-affd-b9bb94a38267",
   "metadata": {},
   "source": [
    "## Fitting the training set to an LTSM ##"
   ]
  },
  {
   "cell_type": "markdown",
   "id": "d912ae39-be43-4f73-8658-0024c09d7a09",
   "metadata": {},
   "source": [
    "\n",
    "Long Short-Term Memory (LSTM) networks are a type of Recurrent Neural Network (RNN). They are designed to remember information for long periods, making them ideal for sequential or time-series data. In PyTorch, LSTMs are implemented through the torch.nn.LSTM module, allowing for easy construction of LSTM layers for models."
   ]
  },
  {
   "cell_type": "markdown",
   "id": "549d0bf9-0f35-4eb4-98fc-dbd71f8eb9ff",
   "metadata": {},
   "source": [
    "An LSTM (Long Short-Term Memory) network structure typically consists of a series of LSTM units, each comprising three main gates: input, forget, and output gates. These gates control the flow of information into the unit, out of the unit, and within its cell state, respectively, allowing the network to maintain and update its internal state over time. This structure enables LSTMs to effectively capture long-term dependencies in sequence data, making them well-suited for tasks like time series forecasting, natural language processing, and more complex sequence modeling tasks."
   ]
  },
  {
   "cell_type": "code",
   "execution_count": 144,
   "id": "87895e6c-b626-4075-bee9-6268d2e1d423",
   "metadata": {},
   "outputs": [],
   "source": [
    "import torch\n",
    "import torch.nn as nn\n",
    "import numpy as np\n",
    "from torch.autograd import Variable"
   ]
  },
  {
   "cell_type": "code",
   "execution_count": 145,
   "id": "44ad684a-4897-47ef-b29a-bcab99574bd7",
   "metadata": {},
   "outputs": [],
   "source": [
    "class LSTMNet(nn.Module):\n",
    "    def __init__(self, input_size, hidden_layer_size, output_size, num_layers):\n",
    "        super(LSTMNet, self).__init__()\n",
    "        self.hidden_layer_size = hidden_layer_size\n",
    "        #LTSM layer\n",
    "        self.lstm = nn.LSTM(input_size, hidden_layer_size, num_layers)\n",
    "        #this is a regression NN so we need linear outputs. \n",
    "        self.linear = nn.Linear(hidden_layer_size, output_size)\n",
    "\n",
    "    def forward(self, input_seq):\n",
    "        lstm_out, _ = self.lstm(input_seq.view(len(input_seq), 1, -1))\n",
    "        predictions = self.linear(lstm_out.view(len(input_seq), -1))\n",
    "        return predictions[-1]"
   ]
  },
  {
   "cell_type": "markdown",
   "id": "af4c2c09-0eab-4529-8216-bfa197a5ebc8",
   "metadata": {},
   "source": [
    "We use 1 hidden layer and 1 input in real life we would need to do hyperparameter tuning to find the most efficient structure. "
   ]
  },
  {
   "cell_type": "code",
   "execution_count": 146,
   "id": "545322cf-337b-405b-9729-dfda11ee1cb8",
   "metadata": {},
   "outputs": [],
   "source": [
    "input_size = 1\n",
    "hidden_layer_size = 50\n",
    "output_size = 1\n",
    "num_layers = 1\n",
    "\n",
    "model = LSTMNet(input_size, hidden_layer_size, output_size, num_layers)\n",
    "loss_function = nn.MSELoss()\n",
    "optimizer = torch.optim.Adam(model.parameters(), lr=0.001)"
   ]
  },
  {
   "cell_type": "code",
   "execution_count": 147,
   "id": "6dcaaa93-e616-449f-bdcb-41f94843a7fb",
   "metadata": {},
   "outputs": [],
   "source": [
    "ntrain = 1000\n",
    "ntest = 500"
   ]
  },
  {
   "cell_type": "markdown",
   "id": "95920c42-0b1b-4008-b16c-c34e473c5eff",
   "metadata": {},
   "source": [
    "Split out training data and normalise"
   ]
  },
  {
   "cell_type": "code",
   "execution_count": 148,
   "id": "67991e3a-8445-4322-8b94-e4fa2803e2c4",
   "metadata": {},
   "outputs": [],
   "source": [
    "#normalise the training data\n",
    "data = df_dem['ENGLAND_WALES_DEMAND'][0:ntrain]\n",
    "data = torch.tensor(list(data), dtype=torch.float32)"
   ]
  },
  {
   "cell_type": "code",
   "execution_count": 149,
   "id": "1b9fc1db-5c69-4bec-a02b-b54c4b385a84",
   "metadata": {},
   "outputs": [],
   "source": [
    "#use the mean and sq from the training set\n",
    "mean = torch.mean(data, dim=0)\n",
    "std = torch.std(data, dim=0)\n",
    "# Normalize the data\n",
    "normalized_data = (data - mean) / std"
   ]
  },
  {
   "cell_type": "code",
   "execution_count": 150,
   "id": "d21baa9f-ba5f-4cbb-a1a7-efaa1bbe7864",
   "metadata": {},
   "outputs": [],
   "source": [
    "data = normalized_data"
   ]
  },
  {
   "cell_type": "markdown",
   "id": "55518be3-6f13-4b32-b9fa-29181b4c8098",
   "metadata": {},
   "source": [
    "Training loops in Pytorch all have a similar strcuture:\n",
    "1) zero grad\n",
    "2) forward propagation\n",
    "3) back propagation to find grad\n",
    "4) update optimiser"
   ]
  },
  {
   "cell_type": "code",
   "execution_count": 152,
   "id": "b780e48b-b920-4463-834b-e05cd181dd44",
   "metadata": {},
   "outputs": [
    {
     "name": "stdout",
     "output_type": "stream",
     "text": [
      "epoch:   0 loss: 0.01975762\n",
      "epoch:   2 loss: 0.02336663\n",
      "epoch:   4 loss: 0.02292173\n",
      "epoch:   6 loss: 0.02234505\n",
      "epoch:   8 loss: 0.02196187\n",
      "epoch:  10 loss: 0.02170439\n",
      "epoch:  12 loss: 0.02159588\n",
      "epoch:  14 loss: 0.02159564\n",
      "epoch:  16 loss: 0.02167605\n",
      "epoch:  18 loss: 0.02186358\n",
      "epoch:  20 loss: 0.02210644\n",
      "epoch:  22 loss: 0.02237707\n",
      "epoch:  24 loss: 0.02264514\n",
      "epoch:  26 loss: 0.02288713\n",
      "epoch:  28 loss: 0.02307852\n",
      "epoch:  30 loss: 0.02318995\n",
      "epoch:  32 loss: 0.02320415\n",
      "epoch:  34 loss: 0.02312755\n",
      "epoch:  36 loss: 0.02297620\n",
      "epoch:  38 loss: 0.02277088\n",
      "epoch:  40 loss: 0.02253284\n",
      "epoch:  42 loss: 0.02228038\n",
      "epoch:  44 loss: 0.02202573\n",
      "epoch:  46 loss: 0.02177522\n",
      "epoch:  48 loss: 0.02153146\n",
      "epoch:  50 loss: 0.02129659\n",
      "epoch:  52 loss: 0.02107193\n",
      "epoch:  54 loss: 0.02085735\n",
      "epoch:  56 loss: 0.02065298\n",
      "epoch:  58 loss: 0.02045865\n",
      "epoch:  60 loss: 0.02027332\n",
      "epoch:  62 loss: 0.02009857\n",
      "epoch:  64 loss: 0.01992652\n",
      "epoch:  66 loss: 0.01976332\n",
      "epoch:  68 loss: 0.01960784\n",
      "epoch:  70 loss: 0.01946066\n",
      "epoch:  72 loss: 0.01932327\n",
      "epoch:  74 loss: 0.01919202\n",
      "epoch:  76 loss: 0.01906240\n",
      "epoch:  78 loss: 0.01893693\n",
      "epoch:  80 loss: 0.01881511\n",
      "epoch:  82 loss: 0.01869489\n",
      "epoch:  84 loss: 0.01857914\n",
      "epoch:  86 loss: 0.01846862\n",
      "epoch:  88 loss: 0.01836479\n",
      "epoch:  90 loss: 0.01826722\n",
      "epoch:  92 loss: 0.01817228\n",
      "epoch:  94 loss: 0.01808324\n",
      "epoch:  96 loss: 0.01799988\n",
      "epoch:  98 loss: 0.01792558\n"
     ]
    }
   ],
   "source": [
    "#training loop\n",
    "epochs = 100\n",
    "future = 1  # predict next 1 step\n",
    "for i in range(epochs):\n",
    "    for seq in range(len(data) - future):\n",
    "        seq_data = data[seq:seq + future]\n",
    "        next_value = data[seq + future: seq + future + 1]\n",
    "        optimizer.zero_grad()\n",
    "        model.hidden_cell = (torch.zeros(1, 1, model.hidden_layer_size),\n",
    "                             torch.zeros(1, 1, model.hidden_layer_size))\n",
    "        y_pred = model(seq_data) # forward pass\n",
    "        single_loss = loss_function(y_pred, next_value) #calculate loss\n",
    "        single_loss.backward() #backward pass to calculate the grad\n",
    "        optimizer.step() # optimiser step delta*grad \n",
    "    if i%2 == 0:\n",
    "        print(f'epoch: {i:3} loss: {single_loss.item():10.8f}')"
   ]
  },
  {
   "cell_type": "code",
   "execution_count": 153,
   "id": "c2577ca1-cc6c-45c8-b0f0-134ebe02d7de",
   "metadata": {},
   "outputs": [
    {
     "data": {
      "text/plain": [
       "LSTMNet(\n",
       "  (lstm): LSTM(1, 50)\n",
       "  (linear): Linear(in_features=50, out_features=1, bias=True)\n",
       ")"
      ]
     },
     "execution_count": 153,
     "metadata": {},
     "output_type": "execute_result"
    }
   ],
   "source": [
    "model.eval()  # Set the model to evaluation mode"
   ]
  },
  {
   "cell_type": "markdown",
   "id": "1d76013d-696a-4304-9800-f42c5d4710d8",
   "metadata": {},
   "source": [
    "## Predicting using the test data set ##"
   ]
  },
  {
   "cell_type": "code",
   "execution_count": 177,
   "id": "5fb83340-b74e-4048-a4e6-f8970bfd58bf",
   "metadata": {},
   "outputs": [],
   "source": [
    "data_test = df_dem['ENGLAND_WALES_DEMAND'][ntrain+1:ntrain+1+ntest]\n",
    "data_test = torch.tensor(list(data_test), dtype=torch.float32)"
   ]
  },
  {
   "cell_type": "code",
   "execution_count": 179,
   "id": "a07bbd76-0bfd-4a63-acc4-16f120b7c9de",
   "metadata": {},
   "outputs": [],
   "source": [
    "#scale the data - note we use the same mean and std as for the training set to avoid any information leekage\n",
    "normalized_data_test = (data_test - mean) / std"
   ]
  },
  {
   "cell_type": "code",
   "execution_count": 180,
   "id": "7242c433-03dc-42a2-ba00-f37127848290",
   "metadata": {},
   "outputs": [
    {
     "data": {
      "text/plain": [
       "tensor(1.2629)"
      ]
     },
     "execution_count": 180,
     "metadata": {},
     "output_type": "execute_result"
    }
   ],
   "source": [
    "normalized_data[-1]"
   ]
  },
  {
   "cell_type": "code",
   "execution_count": 181,
   "id": "8a33826e-a749-4e52-b0ba-f53d1d2198de",
   "metadata": {},
   "outputs": [
    {
     "data": {
      "text/plain": [
       "tensor([0.7284])"
      ]
     },
     "execution_count": 181,
     "metadata": {},
     "output_type": "execute_result"
    }
   ],
   "source": [
    "normalized_data_test[0:1]"
   ]
  },
  {
   "cell_type": "code",
   "execution_count": 182,
   "id": "df2a5d06-6c4a-465d-a511-29ca0311824a",
   "metadata": {},
   "outputs": [
    {
     "data": {
      "text/plain": [
       "tensor([0.7719], grad_fn=<SelectBackward0>)"
      ]
     },
     "execution_count": 182,
     "metadata": {},
     "output_type": "execute_result"
    }
   ],
   "source": [
    "model(normalized_data_test[0:1])"
   ]
  },
  {
   "cell_type": "code",
   "execution_count": 183,
   "id": "7942c2b0-bb45-4f09-a1fa-c2eb9e8a3088",
   "metadata": {},
   "outputs": [],
   "source": [
    "res = torch.zeros(0)"
   ]
  },
  {
   "cell_type": "code",
   "execution_count": 184,
   "id": "5b09312c-17bd-4b39-ab76-bdfe1ccbad5a",
   "metadata": {},
   "outputs": [],
   "source": [
    "for i in range(0,ntest):\n",
    "    y_pred = model(normalized_data_test[i:i+1])\n",
    "    res = torch.cat((res, y_pred))"
   ]
  },
  {
   "cell_type": "code",
   "execution_count": 185,
   "id": "b3b10405-f846-40d7-b2fc-e27b0219f9ff",
   "metadata": {},
   "outputs": [],
   "source": [
    "tst = res.detach().numpy()"
   ]
  },
  {
   "cell_type": "code",
   "execution_count": 186,
   "id": "0b0eb947-02c8-45b4-bb14-8c506ab68c4c",
   "metadata": {},
   "outputs": [],
   "source": [
    "ref = normalized_data_test[0:ntest+1].detach().numpy()"
   ]
  },
  {
   "cell_type": "code",
   "execution_count": 169,
   "id": "d75d4d38-8fbf-47d0-94fa-3d3ffac9e16d",
   "metadata": {},
   "outputs": [],
   "source": [
    "import matplotlib.pyplot as plt"
   ]
  },
  {
   "cell_type": "code",
   "execution_count": 189,
   "id": "98016356-b984-4030-84d8-8e66ee17b400",
   "metadata": {},
   "outputs": [
    {
     "data": {
      "image/png": "[encoded data removed]",
      "text/plain": [
       "<Figure size 640x480 with 1 Axes>"
      ]
     },
     "metadata": {},
     "output_type": "display_data"
    }
   ],
   "source": [
    "plt.plot(tst)\n",
    "plt.plot(ref)\n",
    "plt.show()"
   ]
  }
 ],
 "metadata": {
  "kernelspec": {
   "display_name": "Python 3 (ipykernel)",
   "language": "python",
   "name": "python3"
  },
  "language_info": {
   "codemirror_mode": {
    "name": "ipython",
    "version": 3
   },
   "file_extension": ".py",
   "mimetype": "text/x-python",
   "name": "python",
   "nbconvert_exporter": "python",
   "pygments_lexer": "ipython3",
   "version": "3.11.4"
  }
 },
 "nbformat": 4,
 "nbformat_minor": 5
}
